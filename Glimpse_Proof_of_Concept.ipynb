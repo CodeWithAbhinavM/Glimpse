{
  "nbformat": 4,
  "nbformat_minor": 0,
  "metadata": {
    "colab": {
      "name": "Glimpse: Proof of Concept",
      "provenance": [],
      "collapsed_sections": []
    },
    "kernelspec": {
      "name": "python3",
      "display_name": "Python 3"
    },
    "language_info": {
      "name": "python"
    },
    "accelerator": "GPU"
  },
  "cells": [
    {
      "cell_type": "code",
      "source": [
        "from google.colab import drive\n",
        "drive.mount('/content/drive')"
      ],
      "metadata": {
        "colab": {
          "base_uri": "https://localhost:8080/"
        },
        "id": "yqidD9sG2m9H",
        "outputId": "bece4925-569b-42db-dfdb-0f289f01d294"
      },
      "execution_count": null,
      "outputs": [
        {
          "output_type": "stream",
          "name": "stdout",
          "text": [
            "Mounted at /content/drive\n"
          ]
        }
      ]
    },
    {
      "cell_type": "code",
      "source": [
        "from tensorflow.keras.layers import Input, Lambda, Dense, Flatten,Dropout,Conv2D,MaxPooling2D\n",
        "from tensorflow.keras.models import Model\n",
        "from tensorflow.keras.preprocessing import image\n",
        "from sklearn.metrics import accuracy_score,classification_report,confusion_matrix\n",
        "from tensorflow.keras.preprocessing.image import ImageDataGenerator\n",
        "from sklearn.model_selection import train_test_split\n",
        "from tensorflow.keras.models import Sequential\n",
        "import numpy as np\n",
        "import pandas as pd\n",
        "import os\n",
        "import cv2\n",
        "import matplotlib.pyplot as plt\n",
        "from numpy import asarray"
      ],
      "metadata": {
        "id": "gpaogxDM18yh"
      },
      "execution_count": null,
      "outputs": []
    },
    {
      "cell_type": "code",
      "source": [
        "from PIL import Image\n",
        "from numpy import asarray\n",
        "# re-size all the images to this\n",
        "IMAGE_SIZE = (400, 400)\n",
        "path=\"/content/drive/MyDrive/Hackathon/AquaDataset/FWFD/\"\n",
        "data=[]\n",
        "c=0\n",
        "for folder in os.listdir(path):\n",
        "    sub_path=path+\"/\"+folder\n",
        "    count = 0\n",
        "    for img in os.listdir(sub_path):\n",
        "        image_path=sub_path+\"/\"+img        \n",
        "        image = Image.open(image_path)\n",
        "        new_image = image.resize((400, 400))\n",
        "        new_image = new_image.convert('RGB')\n",
        "        new_image.save('/content/drive/MyDrive/Hackathon/AquaDataset/Resized/image_%3s_%3d.jpg' % (folder,count))\n",
        "        saved_img = Image.open('/content/drive/MyDrive/Hackathon/AquaDataset/Resized/image_%3s_%3d.jpg' % (folder,count))\n",
        "        res_img = asarray(saved_img)\n",
        "        data.append(res_img)\n",
        "        count += 1\n",
        "        print(image.size) # Output: (1920, 1280)\n",
        "        print(new_image.size) # Output: (400, 400)\n",
        "        print(count)\n",
        "        print(\"Number of images skipped= \",c)\n",
        "        "
      ],
      "metadata": {
        "colab": {
          "base_uri": "https://localhost:8080/",
          "height": 377
        },
        "id": "xwQMhew51yEY",
        "outputId": "3b712d80-114c-4779-93d9-74ff477facf0"
      },
      "execution_count": null,
      "outputs": [
        {
          "output_type": "error",
          "ename": "FileNotFoundError",
          "evalue": "ignored",
          "traceback": [
            "\u001b[0;31m---------------------------------------------------------------------------\u001b[0m",
            "\u001b[0;31mFileNotFoundError\u001b[0m                         Traceback (most recent call last)",
            "\u001b[0;32m<ipython-input-27-47eb21e45115>\u001b[0m in \u001b[0;36m<module>\u001b[0;34m()\u001b[0m\n\u001b[1;32m     15\u001b[0m         \u001b[0mnew_image\u001b[0m \u001b[0;34m=\u001b[0m \u001b[0mnew_image\u001b[0m\u001b[0;34m.\u001b[0m\u001b[0mconvert\u001b[0m\u001b[0;34m(\u001b[0m\u001b[0;34m'RGB'\u001b[0m\u001b[0;34m)\u001b[0m\u001b[0;34m\u001b[0m\u001b[0;34m\u001b[0m\u001b[0m\n\u001b[1;32m     16\u001b[0m         \u001b[0mnew_image\u001b[0m\u001b[0;34m.\u001b[0m\u001b[0msave\u001b[0m\u001b[0;34m(\u001b[0m\u001b[0;34m'/content/drive/MyDrive/Hackathon/AquaDataset/Resized/image_%3s_%3d.jpg'\u001b[0m \u001b[0;34m%\u001b[0m \u001b[0;34m(\u001b[0m\u001b[0mfolder\u001b[0m\u001b[0;34m,\u001b[0m\u001b[0mcount\u001b[0m\u001b[0;34m)\u001b[0m\u001b[0;34m)\u001b[0m\u001b[0;34m\u001b[0m\u001b[0;34m\u001b[0m\u001b[0m\n\u001b[0;32m---> 17\u001b[0;31m         \u001b[0msaved_img\u001b[0m \u001b[0;34m=\u001b[0m \u001b[0mImage\u001b[0m\u001b[0;34m.\u001b[0m\u001b[0mopen\u001b[0m\u001b[0;34m(\u001b[0m\u001b[0;34m'/content/drive/MyDrive/Hackathon/AquaDataset/Resized/image_%s%d.jpg'\u001b[0m \u001b[0;34m%\u001b[0m \u001b[0;34m(\u001b[0m\u001b[0mfolder\u001b[0m\u001b[0;34m,\u001b[0m\u001b[0mcount\u001b[0m\u001b[0;34m)\u001b[0m\u001b[0;34m)\u001b[0m\u001b[0;34m\u001b[0m\u001b[0;34m\u001b[0m\u001b[0m\n\u001b[0m\u001b[1;32m     18\u001b[0m         \u001b[0mres_img\u001b[0m \u001b[0;34m=\u001b[0m \u001b[0masarray\u001b[0m\u001b[0;34m(\u001b[0m\u001b[0msaved_img\u001b[0m\u001b[0;34m)\u001b[0m\u001b[0;34m\u001b[0m\u001b[0;34m\u001b[0m\u001b[0m\n\u001b[1;32m     19\u001b[0m         \u001b[0mdata\u001b[0m\u001b[0;34m.\u001b[0m\u001b[0mappend\u001b[0m\u001b[0;34m(\u001b[0m\u001b[0mres_img\u001b[0m\u001b[0;34m)\u001b[0m\u001b[0;34m\u001b[0m\u001b[0;34m\u001b[0m\u001b[0m\n",
            "\u001b[0;32m/usr/local/lib/python3.7/dist-packages/PIL/Image.py\u001b[0m in \u001b[0;36mopen\u001b[0;34m(fp, mode)\u001b[0m\n\u001b[1;32m   2841\u001b[0m \u001b[0;34m\u001b[0m\u001b[0m\n\u001b[1;32m   2842\u001b[0m     \u001b[0;32mif\u001b[0m \u001b[0mfilename\u001b[0m\u001b[0;34m:\u001b[0m\u001b[0;34m\u001b[0m\u001b[0;34m\u001b[0m\u001b[0m\n\u001b[0;32m-> 2843\u001b[0;31m         \u001b[0mfp\u001b[0m \u001b[0;34m=\u001b[0m \u001b[0mbuiltins\u001b[0m\u001b[0;34m.\u001b[0m\u001b[0mopen\u001b[0m\u001b[0;34m(\u001b[0m\u001b[0mfilename\u001b[0m\u001b[0;34m,\u001b[0m \u001b[0;34m\"rb\"\u001b[0m\u001b[0;34m)\u001b[0m\u001b[0;34m\u001b[0m\u001b[0;34m\u001b[0m\u001b[0m\n\u001b[0m\u001b[1;32m   2844\u001b[0m         \u001b[0mexclusive_fp\u001b[0m \u001b[0;34m=\u001b[0m \u001b[0;32mTrue\u001b[0m\u001b[0;34m\u001b[0m\u001b[0;34m\u001b[0m\u001b[0m\n\u001b[1;32m   2845\u001b[0m \u001b[0;34m\u001b[0m\u001b[0m\n",
            "\u001b[0;31mFileNotFoundError\u001b[0m: [Errno 2] No such file or directory: '/content/drive/MyDrive/Hackathon/AquaDataset/Resized/image_HealthyFish0.jpg'"
          ]
        }
      ]
    },
    {
      "cell_type": "code",
      "source": [
        "x = np.array(data)\n",
        "x = x/255.0\n",
        "path = '/content/drive/MyDrive/Hackathon/AquaDataset/Classes'\n",
        "datagen = ImageDataGenerator(rescale = 1./255)\n",
        "dataset = datagen.flow_from_directory(path,\n",
        "                                      target_size = IMAGE_SIZE,\n",
        "                                      batch_size = 32,\n",
        "                                      class_mode = 'sparse')\n",
        "dataset.class_indices\n",
        "y=dataset.classes\n",
        "print(y)\n",
        "print(len(data))"
      ],
      "metadata": {
        "colab": {
          "base_uri": "https://localhost:8080/"
        },
        "id": "in5EyMfq2DQX",
        "outputId": "4b6992eb-60fa-4225-deee-ac4d0d108b0d"
      },
      "execution_count": null,
      "outputs": [
        {
          "output_type": "stream",
          "name": "stdout",
          "text": [
            "Found 133 images belonging to 2 classes.\n",
            "[0 0 0 0 0 0 0 0 0 0 0 0 0 0 0 0 0 0 0 0 0 0 0 0 0 0 0 0 0 0 0 1 1 1 1 1 1\n",
            " 1 1 1 1 1 1 1 1 1 1 1 1 1 1 1 1 1 1 1 1 1 1 1 1 1 1 1 1 1 1 1 1 1 1 1 1 1\n",
            " 1 1 1 1 1 1 1 1 1 1 1 1 1 1 1 1 1 1 1 1 1 1 1 1 1 1 1 1 1 1 1 1 1 1 1 1 1\n",
            " 1 1 1 1 1 1 1 1 1 1 1 1 1 1 1 1 1 1 1 1 1 1]\n",
            "133\n"
          ]
        }
      ]
    },
    {
      "cell_type": "code",
      "source": [
        "x_train,x_test,y_train,y_test=train_test_split(x,y,test_size=0.1)\n",
        "x_train,x_val,y_train,y_val=train_test_split(x_train,y_train,test_size=0.2)\n",
        "\n",
        "print(x_train.shape,y_train.shape)\n",
        "print(x_val.shape,y_val.shape)\n",
        "print(x_test.shape,y_test.shape)"
      ],
      "metadata": {
        "colab": {
          "base_uri": "https://localhost:8080/"
        },
        "id": "OyPYsiuTBteV",
        "outputId": "00a18141-3cd0-4e97-81c4-9b34aa4d448e"
      },
      "execution_count": null,
      "outputs": [
        {
          "output_type": "stream",
          "name": "stdout",
          "text": [
            "(95, 400, 400, 3) (95,)\n",
            "(24, 400, 400, 3) (24,)\n",
            "(14, 400, 400, 3) (14,)\n"
          ]
        }
      ]
    },
    {
      "cell_type": "code",
      "source": [
        "from tensorflow.keras.layers import Input, Lambda, Dense, Flatten,Dropout,Conv2D,MaxPooling2D\n",
        "from tensorflow.keras.layers import BatchNormalization\n",
        "\n",
        "model=Sequential()\n",
        "\n",
        "#covolution layer\n",
        "model.add(Conv2D(32,(3,3),activation='relu',input_shape=(400,400,3)))\n",
        "#pooling layer\n",
        "model.add(MaxPooling2D(2,2))\n",
        "model.add(BatchNormalization())\n",
        "\n",
        "#covolution layer\n",
        "model.add(Conv2D(32,(3,3),activation='relu'))\n",
        "#pooling layer\n",
        "model.add(MaxPooling2D(2,2))\n",
        "model.add(BatchNormalization())\n",
        "\n",
        "#covolution layer\n",
        "model.add(Conv2D(64,(3,3),activation='relu'))\n",
        "#pooling layer\n",
        "model.add(MaxPooling2D(2,2))\n",
        "model.add(BatchNormalization())\n",
        "\n",
        "#covolution layer\n",
        "model.add(Conv2D(64,(3,3),activation='relu'))\n",
        "#pooling layer\n",
        "model.add(MaxPooling2D(2,2))\n",
        "model.add(BatchNormalization())\n",
        "\n",
        "#i/p layer\n",
        "model.add(Flatten())\n",
        "\n",
        "#o/p layer\n",
        "model.add(Dense(2,activation='softmax'))\n",
        "\n",
        "model.summary()\n",
        "\n"
      ],
      "metadata": {
        "colab": {
          "base_uri": "https://localhost:8080/"
        },
        "id": "wL55CmSDEk7H",
        "outputId": "147d394e-9f92-4d31-8041-1f26e8476e51"
      },
      "execution_count": null,
      "outputs": [
        {
          "output_type": "stream",
          "name": "stdout",
          "text": [
            "Model: \"sequential_4\"\n",
            "_________________________________________________________________\n",
            " Layer (type)                Output Shape              Param #   \n",
            "=================================================================\n",
            " conv2d_10 (Conv2D)          (None, 398, 398, 32)      896       \n",
            "                                                                 \n",
            " max_pooling2d_9 (MaxPooling  (None, 199, 199, 32)     0         \n",
            " 2D)                                                             \n",
            "                                                                 \n",
            " batch_normalization_8 (Batc  (None, 199, 199, 32)     128       \n",
            " hNormalization)                                                 \n",
            "                                                                 \n",
            " conv2d_11 (Conv2D)          (None, 197, 197, 32)      9248      \n",
            "                                                                 \n",
            " max_pooling2d_10 (MaxPoolin  (None, 98, 98, 32)       0         \n",
            " g2D)                                                            \n",
            "                                                                 \n",
            " batch_normalization_9 (Batc  (None, 98, 98, 32)       128       \n",
            " hNormalization)                                                 \n",
            "                                                                 \n",
            " conv2d_12 (Conv2D)          (None, 96, 96, 64)        18496     \n",
            "                                                                 \n",
            " max_pooling2d_11 (MaxPoolin  (None, 48, 48, 64)       0         \n",
            " g2D)                                                            \n",
            "                                                                 \n",
            " batch_normalization_10 (Bat  (None, 48, 48, 64)       256       \n",
            " chNormalization)                                                \n",
            "                                                                 \n",
            " conv2d_13 (Conv2D)          (None, 46, 46, 64)        36928     \n",
            "                                                                 \n",
            " max_pooling2d_12 (MaxPoolin  (None, 23, 23, 64)       0         \n",
            " g2D)                                                            \n",
            "                                                                 \n",
            " batch_normalization_11 (Bat  (None, 23, 23, 64)       256       \n",
            " chNormalization)                                                \n",
            "                                                                 \n",
            " flatten_2 (Flatten)         (None, 33856)             0         \n",
            "                                                                 \n",
            " dense_2 (Dense)             (None, 2)                 67714     \n",
            "                                                                 \n",
            "=================================================================\n",
            "Total params: 134,050\n",
            "Trainable params: 133,666\n",
            "Non-trainable params: 384\n",
            "_________________________________________________________________\n"
          ]
        }
      ]
    },
    {
      "cell_type": "code",
      "source": [
        "#compile model:\n",
        "model.compile(optimizer='adam',loss='sparse_categorical_crossentropy',metrics=['accuracy'])\n",
        "\n",
        "from tensorflow.keras.callbacks import EarlyStopping\n",
        "early_stop=EarlyStopping(monitor='val_loss',mode='min',verbose=1,patience=5)\n",
        "\n",
        "\n",
        "#Early stopping to avoid overfitting of model\n",
        "history = model.fit(x_train,y_train,validation_data=(x_val,y_val),epochs=30, callbacks=[early_stop], shuffle=True)\n"
      ],
      "metadata": {
        "colab": {
          "base_uri": "https://localhost:8080/"
        },
        "id": "-9xaxRU3FwhR",
        "outputId": "bad35c46-ac70-4f9f-e12d-8427d46463f8"
      },
      "execution_count": null,
      "outputs": [
        {
          "output_type": "stream",
          "name": "stdout",
          "text": [
            "Epoch 1/30\n",
            "3/3 [==============================] - 2s 407ms/step - loss: 0.2386 - accuracy: 0.9684 - val_loss: 0.8147 - val_accuracy: 0.7500\n",
            "Epoch 2/30\n",
            "3/3 [==============================] - 1s 270ms/step - loss: 0.2999 - accuracy: 0.9474 - val_loss: 0.6472 - val_accuracy: 0.7083\n",
            "Epoch 3/30\n",
            "3/3 [==============================] - 1s 278ms/step - loss: 0.3427 - accuracy: 0.9684 - val_loss: 0.5354 - val_accuracy: 0.6250\n",
            "Epoch 4/30\n",
            "3/3 [==============================] - 1s 277ms/step - loss: 0.1632 - accuracy: 0.9895 - val_loss: 1.2679 - val_accuracy: 0.3333\n",
            "Epoch 5/30\n",
            "3/3 [==============================] - 1s 340ms/step - loss: 0.1174 - accuracy: 0.9895 - val_loss: 1.2879 - val_accuracy: 0.2917\n",
            "Epoch 6/30\n",
            "3/3 [==============================] - 1s 294ms/step - loss: 0.0735 - accuracy: 0.9895 - val_loss: 0.5313 - val_accuracy: 0.7500\n",
            "Epoch 7/30\n",
            "3/3 [==============================] - 1s 276ms/step - loss: 0.1435 - accuracy: 0.9895 - val_loss: 0.7151 - val_accuracy: 0.7500\n",
            "Epoch 8/30\n",
            "3/3 [==============================] - 1s 310ms/step - loss: 0.2096 - accuracy: 0.9684 - val_loss: 0.7637 - val_accuracy: 0.5417\n",
            "Epoch 9/30\n",
            "3/3 [==============================] - 1s 269ms/step - loss: 0.0876 - accuracy: 0.9684 - val_loss: 0.6176 - val_accuracy: 0.7500\n",
            "Epoch 10/30\n",
            "3/3 [==============================] - 1s 274ms/step - loss: 0.0303 - accuracy: 0.9895 - val_loss: 1.3282 - val_accuracy: 0.7500\n",
            "Epoch 11/30\n",
            "3/3 [==============================] - 1s 274ms/step - loss: 0.0959 - accuracy: 0.9895 - val_loss: 1.4122 - val_accuracy: 0.7500\n",
            "Epoch 00011: early stopping\n"
          ]
        }
      ]
    },
    {
      "cell_type": "code",
      "source": [
        "from tensorflow.keras.callbacks import EarlyStopping\n",
        "early_stop=EarlyStopping(monitor='val_loss',mode='min',verbose=1,patience=5)#loss graph\n",
        "plt.plot(history.history['loss'],label='train loss')\n",
        "plt.plot(history.history['val_loss'],label='val loss')\n",
        "plt.legend()\n",
        "\n",
        "plt.savefig('loss-graph.png')\n",
        "plt.show()\n",
        "\n",
        "# accuracies\n",
        "plt.plot(history.history['accuracy'], label='train acc')\n",
        "plt.plot(history.history['val_accuracy'], label='val acc')\n",
        "plt.legend()\n",
        "\n",
        "\n",
        "plt.savefig('acc-graph.png')\n",
        "plt.show()\n",
        "\n"
      ],
      "metadata": {
        "colab": {
          "base_uri": "https://localhost:8080/",
          "height": 513
        },
        "id": "twtBelt5GIpL",
        "outputId": "c4f988c3-ee4e-4698-fe7f-fa62d61338ca"
      },
      "execution_count": null,
      "outputs": [
        {
          "output_type": "display_data",
          "data": {
            "image/png": "[encoded data removed]",
            "text/plain": [
              "<Figure size 432x288 with 1 Axes>"
            ]
          },
          "metadata": {
            "needs_background": "light"
          }
        },
        {
          "output_type": "display_data",
          "data": {
            "image/png": "[encoded data removed]",
            "text/plain": [
              "<Figure size 432x288 with 1 Axes>"
            ]
          },
          "metadata": {
            "needs_background": "light"
          }
        }
      ]
    },
    {
      "cell_type": "code",
      "source": [
        "model.save('/content/drive/MyDrive/Hackathon/AquaDataset/model.h5')"
      ],
      "metadata": {
        "id": "7Q6mVwj1UN4c"
      },
      "execution_count": null,
      "outputs": []
    },
    {
      "cell_type": "code",
      "source": [
        "y_val_pred=model.predict(x_val)\n",
        "y_val_pred=np.argmax(y_val_pred,axis=1)\n",
        "print(classification_report(y_val_pred,y_val))\n",
        "confusion_matrix(y_val_pred,y_val)"
      ],
      "metadata": {
        "colab": {
          "base_uri": "https://localhost:8080/"
        },
        "id": "LBmAxK2tcArV",
        "outputId": "cf32f967-a2a4-41e6-b592-6131b3176699"
      },
      "execution_count": null,
      "outputs": [
        {
          "output_type": "stream",
          "name": "stdout",
          "text": [
            "              precision    recall  f1-score   support\n",
            "\n",
            "           0       0.00      0.00      0.00         0\n",
            "           1       1.00      0.75      0.86        24\n",
            "\n",
            "    accuracy                           0.75        24\n",
            "   macro avg       0.50      0.38      0.43        24\n",
            "weighted avg       1.00      0.75      0.86        24\n",
            "\n"
          ]
        },
        {
          "output_type": "stream",
          "name": "stderr",
          "text": [
            "/usr/local/lib/python3.7/dist-packages/sklearn/metrics/_classification.py:1318: UndefinedMetricWarning: Recall and F-score are ill-defined and being set to 0.0 in labels with no true samples. Use `zero_division` parameter to control this behavior.\n",
            "  _warn_prf(average, modifier, msg_start, len(result))\n",
            "/usr/local/lib/python3.7/dist-packages/sklearn/metrics/_classification.py:1318: UndefinedMetricWarning: Recall and F-score are ill-defined and being set to 0.0 in labels with no true samples. Use `zero_division` parameter to control this behavior.\n",
            "  _warn_prf(average, modifier, msg_start, len(result))\n",
            "/usr/local/lib/python3.7/dist-packages/sklearn/metrics/_classification.py:1318: UndefinedMetricWarning: Recall and F-score are ill-defined and being set to 0.0 in labels with no true samples. Use `zero_division` parameter to control this behavior.\n",
            "  _warn_prf(average, modifier, msg_start, len(result))\n"
          ]
        },
        {
          "output_type": "execute_result",
          "data": {
            "text/plain": [
              "array([[ 0,  0],\n",
              "       [ 6, 18]])"
            ]
          },
          "metadata": {},
          "execution_count": 52
        }
      ]
    },
    {
      "cell_type": "code",
      "source": [
        "model_path='/content/drive/MyDrive/Hackathon/AquaDataset/model.h5'"
      ],
      "metadata": {
        "id": "24WReeYAcjdP"
      },
      "execution_count": null,
      "outputs": []
    },
    {
      "cell_type": "code",
      "source": [
        "from keras.models import load_model\n",
        "from PIL import Image\n",
        "from numpy import asarray\n",
        "import numpy\n",
        "\n",
        "input = Image.open('/content/drive/MyDrive/Hackathon/AquaDataset/unhealthy.jpg')\n",
        "input = input.resize((400, 400))\n",
        "input = input.convert('RGB')\n",
        "sample = asarray(input)\n",
        "sample = numpy.expand_dims(sample, axis=0)\n",
        "\n",
        "model = load_model(model_path)\n",
        "answer = model.predict(sample)\n",
        "\n",
        "ans = np.argmax( answer,axis=1)\n",
        "if(ans==0):\n",
        "  print('Healthy')\n",
        "elif(ans==1):\n",
        "  print('Unhealthy')"
      ],
      "metadata": {
        "id": "euLMdoOZmb6H",
        "colab": {
          "base_uri": "https://localhost:8080/"
        },
        "outputId": "1a91f0b1-0d04-4fc5-b13a-971145f1cec6"
      },
      "execution_count": 21,
      "outputs": [
        {
          "output_type": "stream",
          "name": "stdout",
          "text": [
            "Healthy\n"
          ]
        }
      ]
    }
  ]
}